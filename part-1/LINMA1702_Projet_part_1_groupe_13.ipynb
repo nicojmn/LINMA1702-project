{
 "cells": [
  {
   "cell_type": "markdown",
   "metadata": {},
   "source": [
    "<font size=6  color=#045fba> <b>[LINMA1702] - Modèles et méthodes d'optimisation I</b> <br><br> \n",
    "<b></b>Utilisation optimale d'une pompe à chaleur\n",
    "domestique (première partie)</font> <br><br><br>\n",
    "\n",
    "<font size=6  color=#045fba> <strong>Groupe 13 </strong></font> <br><br><br>\n",
    "\n",
    "\n",
    "<font size=5  color=#045fba>\n",
    "Simon Cornelis (<i>noma : 55101700</i>)<br>\n",
    "Nicolas Jeanmenne (<i>noma : 48741900</i>)<br>\n",
    "Corentin Libert (<i>noma : 53511700</i>)<br>\n",
    "Aymeric Wibo (<i>noma : 74822100 </i>)<br>\n",
    "\n",
    "<br><br>\n",
    "</font>"
   ]
  },
  {
   "cell_type": "markdown",
   "metadata": {
    "collapsed": true
   },
   "source": [
    "# Tâche 1 : minimisation du coût total de l'électricité consommée par la pompe à chaleur"
   ]
  },
  {
   "cell_type": "markdown",
   "metadata": {},
   "source": [
    "## Consignes\n",
    "<br>\n",
    "<font size=3>\n",
    "<div class=\"alert alert-info\">\n",
    "On souhaite dans un premier temps que la température du bâtiment reste comprise dans une certaine plage admissible de températures, et on cherche à minimiser le coût total de l'électricité consommée par la pompe à chaleur. Formulez ce problème comme un problème d'optimisation linéaire, puis résolvez le. <br>\n",
    "    \n",
    "Pour des raisons de temps de calcul, votre modèle considérera uniquement une période de 7 jours consécutifs. Il fera l'hypothèse que la température initiale au début de la période est égale à la valeur central de la plage admissible, et fera en sorte que la température finale à la fin de la période revienne à la même valeur. Votre code prendra donc en entrée un paramètre indiquant le numéro de l'intervalle de temps qui début la période, qui s'étendra sur $ 7 \\times 24 \\times 4 = 672$ intervalles de temps\n",
    "</div>\n",
    "</font>"
   ]
  },
  {
   "cell_type": "markdown",
   "metadata": {},
   "source": [
    "<div class=\"alert alert-warning\">\n",
    "A mentionner :\n",
    "    \n",
    "    \n",
    "- coût minimal + graphique de l'évolution des températures + graphique représentant\n",
    "l'utilisation de la pompe à chaleur (en distinguant le fonctionnement normal du\n",
    "fonctionnement _reverse_) + temps de calcul + bref commentaire (maximum 4 lignes\n",
    "    \n",
    "    \n",
    "- pour deux périodes distinctes (placer les résultats côté à côté) : à gauche une période\n",
    "pré-déterminée (cf. fichier de données), et à droite une seconde période que vous\n",
    "choisirez en fonction de son intérêt\n",
    "</div>"
   ]
  },
  {
   "cell_type": "markdown",
   "metadata": {},
   "source": [
    "## Solution\n",
    "\n",
    "### Variables\n",
    "\n",
    "Nous avons différencié le mode **normal** du mode **reverse** en créant deux vecteurs $\\mathbf{X_N} \\in \\mathbb{R}^{672}$ et $\\mathbf{X_R} \\in \\mathbb{R}^{672}$, représentant respectivement la consommation en kWh de la pompe à chaleur pour un intervalle en mode **normal** et en mode **reverse**. \n",
    "\n",
    "Nous avons aussi, par soucis de simplicité, crée une varible $\\mathbf{T} \\in \\mathbb{R}^{672}$ représentant la température intétieur à la fin de chaque intervalle.\n",
    "\n",
    "Nous obtenons donc un total de $ 3 * 672  = 2016$ variables. \n",
    "\n",
    "### Fonction objectif\n",
    "\n",
    "Nous souhaitons minimiser le coût total de l'électricité consommée par la pompe à chaleur. Sous notation mathématique : \n",
    "\n",
    "$$ minimiser \\;\\; \\sum_{i=1}^{672} p * (X_n + X_r) $$\n",
    "où: \n",
    " - $p$ est le vecteurs des prix en fonction de la plage horaire des intervalles dans $X_N$ et $X_R$ (tarif bi-horaire: 0,18  $\\$$/kWh ou 26 $\\$$/kWh).\n",
    " - $X_N$ et $X_R$ sont définis comme dans la section [Variables](#Variables).\n",
    " \n",
    "### Contraintes\n",
    "\n",
    "Nous devons optimiser la fonction objectif sous les contraintes suivantes : \n",
    "- La consomation de la pompe à chaleur ne peut pas être inférieure à 0 kWh.\n",
    "- La température intérieur (à la fin de chaque intervalle) doit se trouver dans la plage admissible $[T_{min}, T_{max}]$: \n",
    "$$ T_{min} \\leq T \\leq T_{max}$$\n",
    "Le vecteur $T_{int}$ est calculé comme suit:\n",
    "$$\n",
    "\\left\\{\n",
    "\\begin{align} \n",
    "T_{i+1} &= t\\_variation(T_{i}, T_{ext, i}) + 0.4 * cop_{normal, i+1} * X_{N, i+1} - 0.4 * cop_{reverse} * X_{R, i+1} \\\\\n",
    "T_{0} &= t\\_variation(\\frac{t_{max}+t_{min}}{2}, T_{ext, 0}) + 0.4 * cop_{normal, 0} * X_{N, 0} - 0.4 * cop_{reverse} * X_{R, 0}\n",
    "\\end{align}\n",
    "\\right.\n",
    "$$\n",
    "Où:\n",
    "  * $t\\_variation$ correspond à la fonction calculant la variation de la température intérieur en fonction de la température extérieur sur un intervalle.\n",
    "  * $cop_{normal}$ est un vecteur reprenant les coefficient de performance pour le mode normal, basé sur la température extérieure\n",
    "  * $cop_{reverse}$ est le coefficient de performance pour le mode reverse (constant).\n",
    "  \n",
    "$T$ prend donc en compte le futur, permettant par exemple d'anticiper pendant les heures creuses une variation des températures dans les heures pleines qui vont suivre (et économiser de l'argent). \n",
    "- Nous devons ajouter une contrainte vérifiant que la consommation électrique totale maximale de la pompe à chaleur ne dépasse pas **1kWh**, soit **0.25kW par intervalle de 15 minutes**: $$ 0 \\leq X_{N, i} + X_{R,i} \\leq \\frac{1}{4} \\text{ kWh} $$\n",
    "\n",
    "- On ajoute finalement la contrainte pour que la température finale du dernier intervalle vaut $\\frac{(T_{max}+T_{min})}{2}$ (cf. consignes):\n",
    "$$ T[671] = \\frac{(T_{max}+T_{min})}{2}$$\n",
    "\n",
    "Ceci nous fait un total de $2 * (3 * 672) + 672 + 1 = (7 * 672) + 1$ contraintes. Nous faisons comme hypothèse que la température initiale du premier intervalle de temps est dans la plage de température admissible (cf. consignes)."
   ]
  },
  {
   "cell_type": "code",
   "execution_count": null,
   "metadata": {},
   "outputs": [],
   "source": [
    "import numpy as np\n",
    "data_vector = np.load('data/Temperatures-Montreal.npy')\n",
    "print(data_vector.shape)"
   ]
  },
  {
   "cell_type": "code",
   "execution_count": null,
   "metadata": {},
   "outputs": [],
   "source": [
    "import numpy as np\n",
    "import cvxpy as cp\n",
    "import matplotlib.pyplot as plt\n",
    "import time\n",
    "\n",
    "\n",
    "def get_end_temp(t_start, t_ext, eta=0.99):\n",
    "    return (1 - eta) * (t_ext - t_start) + t_start\n",
    "\n",
    "def get_end_interval_temperature(t_start, t_ext, eta=0.99):\n",
    "    return (1 - eta) * (t_ext - t_start) + t_start\n",
    "\n",
    "def get_var_temp_normal_mode(Xn, t_ext):\n",
    "    return cp.multiply(3 + 10 * np.abs(np.tanh(t_ext/100)) * np.tanh(t_ext/100), 0.4 * Xn)\n",
    "\n",
    "def get_var_temp_reverse_mode(Xn):\n",
    "    return 3.2 * 0.4 * Xn\n",
    "    \n",
    "def get_temp_data(data, index, size=672):\n",
    "    return data[index:index+size]\n",
    "\n",
    "def get_price_by_interval(index, size, p_peak, p_off_peak):\n",
    "    prices = [p_off_peak]*28 + [p_peak]*60 + [p_off_peak]*8\n",
    "    prices = prices[index % 96:] + prices[:index % 96]\n",
    "    return prices * int(size/96)\n",
    "\n",
    "def temperature_graph(T, t_min, t_max, title, filename):\n",
    "    plt.figure(figsize=(10, 6), dpi=80)\n",
    "    plt.plot(T)\n",
    "    plt.axhline(y=t_max, color='r', linestyle='--', label='t_max')\n",
    "    plt.axhline(y=t_min, color='r', linestyle='--', label='t_min')\n",
    "    plt.title(title)\n",
    "    plt.xlabel('Intervalles (de 15 minutes)')\n",
    "    plt.ylabel('Température (en °C)')\n",
    "    plt.legend(loc=1, bbox_to_anchor=(1, 0.925))\n",
    "    plt.savefig(filename, format=\"pdf\", bbox_inches=\"tight\")\n",
    "    plt.show()\n",
    "    \n",
    "def pump_graph(Xn, Xr, title, filename):\n",
    "    plt.figure(figsize=(10, 6), dpi=80)\n",
    "    plt.plot(Xn, '-r', label='mode normal')\n",
    "    plt.plot(Xr, '-b', label='mode reverse')\n",
    "    plt.axhline(y=0.25, color='g', linestyle='--', label='consommation max\\npar intervalle')\n",
    "    plt.title(title)\n",
    "    plt.xlabel('Intervalles (de 15 minutes)')\n",
    "    plt.ylabel('Consommation électrique (en kW par intervalle)')\n",
    "    plt.legend(loc=1, bbox_to_anchor=(1, 0.925))\n",
    "    plt.savefig(filename, format=\"pdf\", bbox_inches=\"tight\")\n",
    "    plt.show()"
   ]
  },
  {
   "cell_type": "code",
   "execution_count": null,
   "metadata": {},
   "outputs": [],
   "source": [
    "def task1(data, index, size, t_min, t_max, p_peak, p_off_peak):\n",
    "    # Problem data\n",
    "    t_ext = get_temp_data(data, index, size)\n",
    "    prices = get_price_by_interval(index, size, p_peak, p_off_peak)\n",
    "\n",
    "    # Variables\n",
    "    Xn = cp.Variable(size)\n",
    "    Xr = cp.Variable(size)\n",
    "    T = cp.Variable(size)\n",
    "    \n",
    "    # Objectif\n",
    "    objective = cp.Minimize(prices @ Xn + prices @ Xr)\n",
    "    \n",
    "    \n",
    "    # Constraints\n",
    "    constraints = [\n",
    "        0 <= Xn,\n",
    "        0 <= Xr,\n",
    "        Xn + Xr <= 0.25,\n",
    "        T[0] == get_end_temp((t_min + t_max)/2, t_ext[0]) \n",
    "        + get_var_temp_normal_mode(Xn[0], t_ext[0]) \n",
    "        - get_var_temp_reverse_mode(Xr[0])\n",
    "    ]\n",
    "\n",
    "    for i in range(size-1):\n",
    "        constraints.append(T[i+1] == get_end_temp(T[i], t_ext[i+1]) \n",
    "                           + get_var_temp_normal_mode(Xn[i+1], t_ext[i+1]) \n",
    "                           - get_var_temp_reverse_mode(Xr[i+1]))\n",
    "    constraints.append(t_min <= T)\n",
    "    constraints.append(T <= t_max)\n",
    "    constraints.append(T[size-1] == (t_min + t_max)/2)\n",
    "    \n",
    "    # Problem\n",
    "    prob = cp.Problem(objective, constraints)\n",
    "    \n",
    "    # Solve\n",
    "    start_time = time.time()\n",
    "    result = prob.solve(solver=cp.SCIPY, scipy_options={\"method\": \"highs\"})\n",
    "    end_time = time.time()\n",
    "    elapsed_time = end_time - start_time\n",
    "    \n",
    "    return result, Xn, Xr, T, elapsed_time"
   ]
  },
  {
   "cell_type": "markdown",
   "metadata": {},
   "source": [
    "**OPTIMISATION POUR INDEX = 13050 (mi-mai)**"
   ]
  },
  {
   "cell_type": "code",
   "execution_count": null,
   "metadata": {},
   "outputs": [],
   "source": [
    "index = 13050\n",
    "size = 672\n",
    "result, Xn, Xr, T, elapsed_time = task1(data_vector, index, size, 19, 21, 0.26, 0.18)"
   ]
  },
  {
   "cell_type": "code",
   "execution_count": null,
   "metadata": {},
   "outputs": [],
   "source": [
    "print(f'Temps de calcul (en secondes) : {np.around(elapsed_time, 3)}')\n",
    "print(f'Coût minimal (en $) : {np.around(result, 4)}')\n",
    "print(f'Total Energie (en kWh) pour chauffer : {np.around(np.sum(Xn.value),3)}')\n",
    "print(f'Total Energie (en kWh) pour refroidir : {np.around(np.sum(Xr.value),3)}\\n')\n",
    "# print(f'Energie (en kWh) pour chauffer, par intervalle :\\n{np.around(Xn.value, 3)}\\n')\n",
    "# print(f'Energie (en kWh) pour refroidir, par intervalle :\\n{np.around(Xr.value, 3)}')"
   ]
  },
  {
   "cell_type": "code",
   "execution_count": null,
   "metadata": {},
   "outputs": [],
   "source": [
    "plt.rcParams.update({'font.size': 14})\n",
    "title = f'Evolution de la température intérieure\\n durant {size} intervalles de 15 minutes à partir de l\\'intervalle {index}.'\n",
    "filename = f'graphs/task1_temp_graph_{index}.pdf'\n",
    "temperature_graph(T.value, 19, 21, title, filename)"
   ]
  },
  {
   "cell_type": "code",
   "execution_count": null,
   "metadata": {},
   "outputs": [],
   "source": [
    "plt.rcParams.update({'font.size': 14})\n",
    "title = f'Utilisation de la pompe à chaleur\\n durant {size} intervalles de 15 minutes à partir de l\\'intervalle {index}.'\n",
    "filename = f'graphs/task1_pump_graph_{index}.pdf'\n",
    "pump_graph(Xn.value, Xr.value, title, filename)"
   ]
  },
  {
   "cell_type": "markdown",
   "metadata": {},
   "source": [
    "**OPTIMISATION POUR INDEX = 23672 (début septembre)**"
   ]
  },
  {
   "cell_type": "code",
   "execution_count": null,
   "metadata": {},
   "outputs": [],
   "source": [
    "index_o = 23672\n",
    "result_o, Xn_o, Xr_o, T_o, elapsed_time_o = task1(data_vector, index_o, size, 19, 21, 0.26, 0.18)"
   ]
  },
  {
   "cell_type": "code",
   "execution_count": null,
   "metadata": {},
   "outputs": [],
   "source": [
    "print(f'Temps de calcul (en secondes) : {np.around(elapsed_time_o, 3)}')\n",
    "print(f'Coût minimal (en $) : {np.around(result_o, 4)}')\n",
    "print(f'Total Energie (en kWh) pour chauffer : {np.around(np.sum(Xn_o.value),3)}')\n",
    "print(f'Total Energie (en kWh) pour refroidir : {np.around(np.sum(Xr_o.value),3)}\\n')\n",
    "# print(f'Energie (en kWh) pour chauffer, par intervalle :\\n{np.around(Xn_o.value, 3)}\\n')\n",
    "# print(f'Energie (en kWh) pour refroidir, par intervalle :\\n{np.around(Xr_o.value, 3)}')"
   ]
  },
  {
   "cell_type": "code",
   "execution_count": null,
   "metadata": {},
   "outputs": [],
   "source": [
    "plt.rcParams.update({'font.size': 14})\n",
    "title = f'Evolution de la température intérieure\\n durant {size} intervalles de 15 minutes à partir de l\\'intervalle {index_o}.'\n",
    "filename = f'graphs/task1_temp_graph_{index_o}.pdf'\n",
    "temperature_graph(T_o.value, 19, 21, title, filename)"
   ]
  },
  {
   "cell_type": "code",
   "execution_count": null,
   "metadata": {},
   "outputs": [],
   "source": [
    "plt.rcParams.update({'font.size': 14})\n",
    "title = f'Utilisation de la pompe à chaleur\\n durant {size} intervalles de 15 minutes à partir de l\\'intervalle {index_o}.'\n",
    "filename = f'graphs/task1_pump_graph_{index_o}.pdf'\n",
    "pump_graph(Xn_o.value, Xr_o.value, title, filename)"
   ]
  },
  {
   "cell_type": "markdown",
   "metadata": {},
   "source": [
    "# Tâche 2 : minimisation de l'inconfort total"
   ]
  },
  {
   "cell_type": "markdown",
   "metadata": {},
   "source": [
    "## Consignes\n",
    "<br>\n",
    "<font size=3>\n",
    "<div class=\"alert alert-info\">\n",
    "On souhaite réduire le coût d'utilisation de la pompe à chaleur, et on va fixer le budget maximal à une certaine proportion du coût minimal identifié lors de la première tâche. Pour diminuer les coût, on va permettre aux températures de sortir de la plage admissible définie plus haut. On va cependant alors comptabiliser la quantité d'inconfort\n",
    "éventuellement subi durant chaque intervalle de temps, qui sera proportionnel au dépassement de la température maximale admissible, ou au dépassement par le bas de la température minimale admissible. On cherche alors à <b>minimiser l'inconfort total</b> (somme des inconforts sur toute la période considérée) <b>tout en respectant la contrainte de budget</b>. Formulez ce problème comme un problème d'optimisation linéaire, puis résolvez le.\n",
    "</div>\n",
    "</font>"
   ]
  },
  {
   "cell_type": "markdown",
   "metadata": {},
   "source": [
    "<div class=\"alert alert-warning\">\n",
    "A mentionner :\n",
    "    \n",
    "    \n",
    "- inconfort minimal + même graphiques que pour tâche 1 + temps de calcul + bref\n",
    "commentaire (maximum 4 lignes)\n",
    "    \n",
    "    \n",
    "- à nouveau pour les deux périodes mentionnées lors de la tâche 1\n",
    "</div>"
   ]
  },
  {
   "cell_type": "markdown",
   "metadata": {},
   "source": [
    "## Solution tâche 2\n",
    "\n",
    "Pour la tâche 2, on va devoir adapter les contraines et la fonction objectif du problème.\n",
    "\n",
    "### Fonction objectif\n",
    "\n",
    "Nous souhaitons désormais **minimiser l'inconfort total** sous contraintes d'un budget maximal. Sous notation mathématique, la fonction objectif s'écrit comme:\n",
    "$$ minimiser \\;\\; ( max  (T_{min} - T, 0) * inconfort_{inférieur} +  max (T - T_{max}, 0) * inconfort_{supérieur}) $$\n",
    "\n",
    "où: \n",
    "- $max$ est la fonction mathématique qui prend le maximum entre 2 valeurs (et pas une maximisation au sens d'optimisation).\n",
    "- $inconfort_{inférieur}$ est l'inconfort par degré en dessous de $T_{min}$ par intervalle.\n",
    "- $inconfort_{supérieur}$ est l'inconfort par degré au dessus de $T_{max}$ par intervalle.\n",
    "\n",
    "### Contraintes\n",
    "\n",
    "On garde les contraintes de la tâches hormis celles sur la plage de températures admissible. On retire donc:\n",
    "$$ T_{min} \\leq T \\leq T_{max}$$\n",
    "\n",
    "On retire aussi celle sur la température finale du dernier intervalle (cf. consignes), car elle risque de ne pas être satisfaite pour un budget alloué trop faible. On retire donc: \n",
    "$$ T[671] = \\frac{(T_{max}+T_{min})}{2}$$\n",
    "\n",
    "Par ailleurs, on ajoute la contrainte relative au budget maximal alloué:\n",
    "$$ \\sum_{i=1}^{672} p * (X_N + X_R) \\leq Budget_{max} $$"
   ]
  },
  {
   "cell_type": "code",
   "execution_count": null,
   "metadata": {},
   "outputs": [],
   "source": [
    "import numpy as np\n",
    "import cvxpy as cp\n",
    "import matplotlib.pyplot as plt\n",
    "import time\n",
    "\n",
    "def task2(data, index, size, t_min, t_max, p_peak, p_off_peak, discomfort_bot, discomfort_top, percentage, min_cost):\n",
    "    # Problem data\n",
    "    t_ext = get_temp_data(data, index, size)\n",
    "    prices = get_price_by_interval(index, size, p_peak, p_off_peak)\n",
    "    if(not isinstance(percentage, list) and not isinstance(percentage,  np.ndarray)):\n",
    "        percentage = [percentage]\n",
    "   \n",
    "    # Variables\n",
    "    Xn = cp.Variable(size)\n",
    "    Xr = cp.Variable(size)\n",
    "    T = cp.Variable(size)\n",
    "    budget_max = cp.Parameter()\n",
    "    \n",
    "    # Objectif\n",
    "    objective = cp.Minimize(\n",
    "        cp.sum(cp.maximum(t_min - T, 0)) * discomfort_bot +\n",
    "        cp.sum(cp.maximum(T - t_max, 0)) * discomfort_top\n",
    "    )\n",
    "    \n",
    "    \n",
    "    # Constraints\n",
    "    constraints = [\n",
    "        0 <= Xn,\n",
    "        0 <= Xr,\n",
    "        Xn + Xr <= 0.25,\n",
    "        prices @ Xn + prices @ Xr <= budget_max,\n",
    "        T[0] == get_end_temp((t_min + t_max)/2, t_ext[0]) \n",
    "        + get_var_temp_normal_mode(Xn[0], t_ext[0]) \n",
    "        - get_var_temp_reverse_mode(Xr[0])\n",
    "    ]\n",
    "\n",
    "    for i in range(size-1):\n",
    "        constraints.append(T[i+1] == get_end_temp(T[i], t_ext[i+1]) \n",
    "                           + get_var_temp_normal_mode(Xn[i+1], t_ext[i+1]) \n",
    "                           - get_var_temp_reverse_mode(Xr[i+1]))\n",
    "        \n",
    "    # Problem\n",
    "    prob = cp.Problem(objective, constraints)\n",
    "    \n",
    "    # Results\n",
    "    discomforts = []\n",
    "    Xns = []\n",
    "    Xrs = [] \n",
    "    Ts = []\n",
    "    elapsed_times = []\n",
    "    \n",
    "    # Solve\n",
    "    for i in range(len(percentage)):\n",
    "        budget_max.value = percentage[i] * min_cost\n",
    "        \n",
    "        start_time = time.time()\n",
    "        discomfort = prob.solve(solver=cp.SCIPY, scipy_options={\"method\": \"highs\"}, warm_start=True)\n",
    "        end_time = time.time()\n",
    "        elapsed_time = end_time - start_time\n",
    "        \n",
    "        discomforts.append(discomfort)\n",
    "        Xns.append(Xn.value)\n",
    "        Xrs.append(Xr.value)\n",
    "        Ts.append(T.value)\n",
    "        elapsed_times.append(elapsed_time)\n",
    "    \n",
    "    return discomforts, Xns, Xrs, Ts, elapsed_times"
   ]
  },
  {
   "cell_type": "markdown",
   "metadata": {},
   "source": [
    "**OPTIMISATION POUR INDEX = 13050 (mi-mai)**"
   ]
  },
  {
   "cell_type": "code",
   "execution_count": null,
   "metadata": {},
   "outputs": [],
   "source": [
    "import numpy as np\n",
    "\n",
    "index = 13050\n",
    "minimal_cost = np.around(result, 4)\n",
    "ratio = 0.7\n",
    "result2, Xn2, Xr2, T2, elapsed_time2 = task2(data_vector, index, size, 19, 21, 0.26, 0.18, 3, 1, ratio, minimal_cost)"
   ]
  },
  {
   "cell_type": "code",
   "execution_count": null,
   "metadata": {},
   "outputs": [],
   "source": [
    "print(f'Temps de calcul (en secondes) : {np.around(elapsed_time2[0], 3)}')\n",
    "print(f'Inconfort minimal : {np.around(result2[0], 4)}')\n",
    "print(f'Total Energie (en kWh) pour chauffer : {np.around(np.sum(Xn2[0]),3)}')\n",
    "print(f'Total Energie (en kWh) pour refroidir : {np.around(np.sum(Xr2[0]),3)}\\n')\n",
    "# print(f'Energie (en kWh) pour chauffer, par intervalle :\\n{np.around(Xn2.value, 3)}\\n')\n",
    "# print(f'Energie (en kWh) pour refroidir, par intervalle :\\n{np.around(Xr2.value, 3)}')"
   ]
  },
  {
   "cell_type": "code",
   "execution_count": null,
   "metadata": {},
   "outputs": [],
   "source": [
    "plt.rcParams.update({'font.size': 14})\n",
    "title = f'Evolution de la température intérieure (avec inconfort)\\n durant {size} intervalles de 15 minutes à partir de l\\'intervalle {index},\\npour un budget maximal de {ratio*100}% du coût minimal ({minimal_cost}\\$).'\n",
    "filename = f'graphs/task2_temp_graph_{index}.pdf'\n",
    "temperature_graph(T2[0], 19, 21, title, filename)"
   ]
  },
  {
   "cell_type": "code",
   "execution_count": null,
   "metadata": {},
   "outputs": [],
   "source": [
    "plt.rcParams.update({'font.size': 14})\n",
    "title = f'Utilisation de la pompe à chaleur (avec inconfort)\\n durant {size} intervalles de 15 minutes à partir de l\\'intervalle {index},\\npour un budget maximal de {ratio*100}% du coût minimal ({minimal_cost}\\$).'\n",
    "filename = f'graphs/task2_pump_graph_{index}.pdf'\n",
    "pump_graph(Xn2[0], Xr2[0], title, filename)"
   ]
  },
  {
   "cell_type": "markdown",
   "metadata": {},
   "source": [
    "**OPTIMISATION POUR INDEX = 23672 (début septembre)**"
   ]
  },
  {
   "cell_type": "code",
   "execution_count": null,
   "metadata": {},
   "outputs": [],
   "source": [
    "import numpy as np\n",
    "\n",
    "index_o = 23672\n",
    "minimal_cost_o = np.around(result_o, 4)\n",
    "ratio_o = 0.7\n",
    "result_o2, Xn_o2, Xr_o2, T_o2, elapsed_time_o2 = task2(data_vector, index_o, size, 19, 21, 0.26, 0.18, 3, 1, ratio_o, minimal_cost_o)\n"
   ]
  },
  {
   "cell_type": "code",
   "execution_count": null,
   "metadata": {},
   "outputs": [],
   "source": [
    "print(f'Temps de calcul (en secondes) : {np.around(elapsed_time_o2[0], 3)}')\n",
    "print(f'Inconfort minimal : {np.around(result_o2[0], 4)}')\n",
    "print(f'Total Energie (en kWh) pour chauffer : {np.around(np.sum(Xn_o2[0]),3)}')\n",
    "print(f'Total Energie (en kWh) pour refroidir : {np.around(np.sum(Xr_o2[0]),3)}\\n')\n",
    "# print(f'Energie (en kWh) pour chauffer, par intervalle :\\n{np.around(Xn2.value, 3)}\\n')\n",
    "# print(f'Energie (en kWh) pour refroidir, par intervalle :\\n{np.around(Xr2.value, 3)}')"
   ]
  },
  {
   "cell_type": "code",
   "execution_count": null,
   "metadata": {},
   "outputs": [],
   "source": [
    "plt.rcParams.update({'font.size': 14})\n",
    "title = f'Evolution de la température intérieure (avec inconfort)\\n durant {size} intervalles de 15 minutes à partir de l\\'intervalle {index_o},\\npour un budget maximal de {ratio_o*100}% du coût minimal ({minimal_cost_o}\\$).'\n",
    "filename = f'graphs/task2_temp_graph_{index_o}.pdf'\n",
    "temperature_graph(T_o2[0], 19, 21, title, filename)"
   ]
  },
  {
   "cell_type": "code",
   "execution_count": null,
   "metadata": {},
   "outputs": [],
   "source": [
    "plt.rcParams.update({'font.size': 14})\n",
    "title = f'Utilisation de la pompe à chaleur (avec inconfort)\\n durant {size} intervalles de 15 minutes à partir de l\\'intervalle {index},\\npour un budget maximal de {ratio_o*100}% du coût minimal ({minimal_cost_o}\\$).'\n",
    "filename = f'graphs/task2_pump_graph_{index_o}.pdf'\n",
    "pump_graph(Xn_o2[0], Xr_o2[0], title, filename)"
   ]
  },
  {
   "cell_type": "markdown",
   "metadata": {},
   "source": [
    "# Tâche 3 : relation entre budget et inconfort"
   ]
  },
  {
   "cell_type": "markdown",
   "metadata": {},
   "source": [
    "## Consignes\n",
    "<br>\n",
    "<font size=3>\n",
    "<div class=\"alert alert-info\">\n",
    "On voudrait à présent mieux comprendre le compromis qui existe entre le budget\n",
    "alloué et l'inconfort total qui en résulte. Proposez un <b>graphique représentant au mieux\n",
    "cette relation entre budget et inconfort</b>, où on fera varier le budget entre entre zéro et le\n",
    "coût minimal identifié lors de la tâche 1 (ce budget sera indiqué en pourcentage, de 0 à\n",
    "100%). Ceci nécessitera la résolution de plusieurs problèmes, et il sera judicieux d'utiliser la\n",
    "    fonctionnalité <i>warm start</i> du solver pour accélérer les calculs.\n",
    "</div>\n",
    "</font>"
   ]
  },
  {
   "cell_type": "markdown",
   "metadata": {},
   "source": [
    "<div class=\"alert alert-warning\">\n",
    "A mentionner :\n",
    "    \n",
    "    \n",
    "- graphique demandé + temps de calcul (total et moyenne par problème) + bref\n",
    "commentaire (maximum 4 lignes)\n",
    "    \n",
    "    \n",
    "- à nouveau pour les deux périodes mentionnées lors des tâches 1 et 2\n",
    "</div>"
   ]
  },
  {
   "cell_type": "code",
   "execution_count": null,
   "metadata": {},
   "outputs": [],
   "source": [
    "import numpy as np\n",
    "\n",
    "def task3(data, index, size, t_min, t_max, p_peak, p_off_peak, discomfort_bot, discomfort_top, minimal_cost):\n",
    "    percentages = np.arange(0, 1.01, 0.01)\n",
    "    discomforts, _, _, _, elapsed_times = task2(data, index, \n",
    "                                                size, \n",
    "                                                t_min, \n",
    "                                                t_max, \n",
    "                                                p_peak, \n",
    "                                                p_off_peak, \n",
    "                                                discomfort_bot, \n",
    "                                                discomfort_top, \n",
    "                                                percentages, \n",
    "                                                minimal_cost)\n",
    "    return discomforts, elapsed_times\n",
    "        "
   ]
  },
  {
   "cell_type": "code",
   "execution_count": null,
   "metadata": {},
   "outputs": [],
   "source": [
    "def discomfort_graph(discomfort, text, filename):\n",
    "    plt.figure(figsize=(10, 8), dpi=80)\n",
    "    plt.plot(discomfort)\n",
    "    plt.title(text)\n",
    "    plt.xlabel('Pourcentage du budget maximal (en %)')\n",
    "    plt.ylabel('Inconfort')\n",
    "    plt.savefig(filename, format=\"pdf\", bbox_inches=\"tight\")\n",
    "    plt.show()"
   ]
  },
  {
   "cell_type": "markdown",
   "metadata": {},
   "source": [
    "**OPTIMISATION POUR INDEX = 13050 (mi-mai)**"
   ]
  },
  {
   "cell_type": "code",
   "execution_count": null,
   "metadata": {},
   "outputs": [],
   "source": [
    "index = 13050\n",
    "minimal_cost = np.around(result, 4)\n",
    "Ds, Times = task3(data_vector, index, size, 19, 21, 0.26, 0.18, 3, 1, minimal_cost)"
   ]
  },
  {
   "cell_type": "code",
   "execution_count": null,
   "metadata": {},
   "outputs": [],
   "source": [
    "print(f'Temps de calcul total (en secondes) : {np.sum(np.array(Times))}')\n",
    "print(f'Temps de calcul moyen (en secondes) : {np.mean(np.array(Times))}')"
   ]
  },
  {
   "cell_type": "code",
   "execution_count": null,
   "metadata": {},
   "outputs": [],
   "source": [
    "plt.rcParams.update({'font.size': 14})\n",
    "title = f'Evolution de l\\'inconfort en fonction du pourcentage d\\'un budget maximal de {minimal_cost}$\\npour {size} intervalles de 15 minutes à partir de l\\'intervalle {index}.'\n",
    "filename = f'graphs/task3_discomfort_graph_{index}.pdf'\n",
    "discomfort_graph(Ds, title, filename)"
   ]
  },
  {
   "cell_type": "markdown",
   "metadata": {},
   "source": [
    "**OPTIMISATION POUR INDEX = 23672 (début septembre)**"
   ]
  },
  {
   "cell_type": "code",
   "execution_count": null,
   "metadata": {},
   "outputs": [],
   "source": [
    "index_o = 23672\n",
    "minimal_cost_o = np.around(result_o, 4)\n",
    "Ds_o, Times_o = task3(data_vector, index_o, size, 19, 21, 0.26, 0.18, 3, 1, minimal_cost_o)"
   ]
  },
  {
   "cell_type": "code",
   "execution_count": null,
   "metadata": {},
   "outputs": [],
   "source": [
    "print(f'Temps de calcul total (en secondes) : {np.sum(np.array(Times_o))}')\n",
    "print(f'Temps de calcul moyen (en secondes) : {np.mean(np.array(Times_o))}')"
   ]
  },
  {
   "cell_type": "code",
   "execution_count": null,
   "metadata": {},
   "outputs": [],
   "source": [
    "plt.rcParams.update({'font.size': 14})\n",
    "title = f'Evolution de l\\'inconfort en fonction du pourcentage d\\'un budget maximal de {minimal_cost_o}$\\npour {size} intervalles de 15 minutes à partir de l\\'intervalle {index_o}.'\n",
    "filename = f'graphs/task3_discomfort_graph_{index_o}.pdf'\n",
    "discomfort_graph(Ds_o, title, filename)"
   ]
  },
  {
   "cell_type": "code",
   "execution_count": null,
   "metadata": {},
   "outputs": [],
   "source": []
  }
 ],
 "metadata": {
  "kernelspec": {
   "display_name": "Python 3 (ipykernel)",
   "language": "python",
   "name": "python3"
  },
  "language_info": {
   "codemirror_mode": {
    "name": "ipython",
    "version": 3
   },
   "file_extension": ".py",
   "mimetype": "text/x-python",
   "name": "python",
   "nbconvert_exporter": "python",
   "pygments_lexer": "ipython3",
   "version": "3.10.7"
  }
 },
 "nbformat": 4,
 "nbformat_minor": 1
}
