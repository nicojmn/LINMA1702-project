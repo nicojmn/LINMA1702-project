{
 "cells": [
  {
   "cell_type": "markdown",
   "metadata": {},
   "source": [
    "<font size=6  color=#045fba> <b>[LINMA1702] - Modèles et méthodes d'optimisation I</b> <br><br> \n",
    "<b></b>Utilisation optimale d'une pompe à chaleur\n",
    "domestique (première partie)</font> <br><br><br>\n",
    "\n",
    "<font size=6  color=#045fba> <strong>Groupe 13 </strong></font> <br><br><br>\n",
    "\n",
    "\n",
    "<font size=5  color=#045fba>\n",
    "Simon Cornelis (<i>noma :</i>)<br>\n",
    "Nicolas Jeanmenne (<i>noma : 48741900</i>)<br>\n",
    "Corentin Libert (<i>noma : 53511700</i>)<br>\n",
    "Aymeric Wibo (<i>noma :</i>)<br>\n",
    "\n",
    "<br><br>\n",
    "</font>"
   ]
  },
  {
   "cell_type": "markdown",
   "metadata": {
    "collapsed": true
   },
   "source": [
    "# Tâche 1 : minimisation du coût total de l'électricité consommée par la pompe à chaleur"
   ]
  },
  {
   "cell_type": "markdown",
   "metadata": {},
   "source": [
    "## Consignes\n",
    "<br>\n",
    "<font size=3>\n",
    "<div class=\"alert alert-info\">\n",
    "On souhaite dans un premier temps que la température du bâtiment reste comprise dans une certaine plage admissible de températures, et on cherche à minimiser le coût total de l'électricité consommée par la pompe à chaleur. Formulez ce problème comme un problème d'optimisation linéaire, puis résolvez le. <br>\n",
    "    \n",
    "Pour des raisons de temps de calcul, votre modèle considérera uniquement une période de 7 jours consécutifs. Il fera l'hypothèse que la température initiale au début de la période est égale à la valeur central de la plage admissible, et fera en sorte que la température finale à la fin de la période revienne à la même valeur. Votre code prendra donc en entrée un paramètre indiquant le numéro de l'intervalle de temps qui début la période, qui s'étendra sur $ 7 \\times 24 \\times 4 = 672$ intervalles de temps\n",
    "</div>\n",
    "</font>"
   ]
  },
  {
   "cell_type": "markdown",
   "metadata": {},
   "source": [
    "<div class=\"alert alert-warning\">\n",
    "A mentionner :\n",
    "    \n",
    "    \n",
    "- coût minimal + graphique de l'évolution des températures + graphique représentant\n",
    "l'utilisation de la pompe à chaleur (en distinguant le fonctionnement normal du\n",
    "fonctionnement _reverse_) + temps de calcul + bref commentaire (maximum 4 lignes\n",
    "    \n",
    "    \n",
    "- pour deux périodes distinctes (placer les résultats côté à côté) : à gauche une période\n",
    "pré-déterminée (cf. fichier de données), et à droite une seconde période que vous\n",
    "choisirez en fonction de son intérêt\n",
    "</div>"
   ]
  },
  {
   "cell_type": "markdown",
   "metadata": {},
   "source": [
    "# Tâche 2 : minimisation de l'inconfort total"
   ]
  },
  {
   "cell_type": "markdown",
   "metadata": {},
   "source": [
    "## Consignes\n",
    "<br>\n",
    "<font size=3>\n",
    "<div class=\"alert alert-info\">\n",
    "On souhaite réduire le coût d'utilisation de la pompe à chaleur, et on va fixer le budget maximal à une certaine proportion du coût minimal identifié lors de la première tâche. Pour diminuer les coût, on va permettre aux températures de sortir de la plage admissible définie plus haut. On va cependant alors comptabiliser la quantité d'inconfort\n",
    "éventuellement subi durant chaque intervalle de temps, qui sera proportionnel au dépassement de la température maximale admissible, ou au dépassement par le bas de la température minimale admissible. On cherche alors à <b>minimiser l'inconfort total</b> (somme des inconforts sur toute la période considérée) <b>tout en respectant la contrainte de budget</b>. Formulez ce problème comme un problème d'optimisation linéaire, puis résolvez le.\n",
    "</div>\n",
    "</font>"
   ]
  },
  {
   "cell_type": "markdown",
   "metadata": {},
   "source": [
    "<div class=\"alert alert-warning\">\n",
    "A mentionner :\n",
    "    \n",
    "    \n",
    "- inconfort minimal + même graphiques que pour tâche 1 + temps de calcul + bref\n",
    "commentaire (maximum 4 lignes)\n",
    "    \n",
    "    \n",
    "- à nouveau pour les deux périodes mentionnées lors de la tâche 1\n",
    "</div>"
   ]
  },
  {
   "cell_type": "markdown",
   "metadata": {},
   "source": [
    "# Tâche 3 : relation entre budget et inconfort"
   ]
  },
  {
   "cell_type": "markdown",
   "metadata": {},
   "source": [
    "## Consignes\n",
    "<br>\n",
    "<font size=3>\n",
    "<div class=\"alert alert-info\">\n",
    "On voudrait à présent mieux comprendre le compromis qui existe entre le budget\n",
    "alloué et l'inconfort total qui en résulte. Proposez un <b>graphique représentant au mieux\n",
    "cette relation entre budget et inconfort</b>, où on fera varier le budget entre entre zéro et le\n",
    "coût minimal identifié lors de la tâche 1 (ce budget sera indiqué en pourcentage, de 0 à\n",
    "100%). Ceci nécessitera la résolution de plusieurs problèmes, et il sera judicieux d'utiliser la\n",
    "    fonctionnalité <i>warm start</i> du solver pour accélérer les calculs.\n",
    "</div>\n",
    "</font>"
   ]
  },
  {
   "cell_type": "markdown",
   "metadata": {},
   "source": [
    "<div class=\"alert alert-warning\">\n",
    "A mentionner :\n",
    "    \n",
    "    \n",
    "- graphique demandé + temps de calcul (total et moyenne par problème) + bref\n",
    "commentaire (maximum 4 lignes)\n",
    "    \n",
    "    \n",
    "- à nouveau pour les deux périodes mentionnées lors des tâches 1 et 2\n",
    "</div>"
   ]
  },
  {
   "cell_type": "code",
   "execution_count": null,
   "metadata": {},
   "outputs": [],
   "source": []
  }
 ],
 "metadata": {
  "kernelspec": {
   "display_name": "Python 3 (ipykernel)",
   "language": "python",
   "name": "python3"
  },
  "language_info": {
   "codemirror_mode": {
    "name": "ipython",
    "version": 3
   },
   "file_extension": ".py",
   "mimetype": "text/x-python",
   "name": "python",
   "nbconvert_exporter": "python",
   "pygments_lexer": "ipython3",
   "version": "3.10.7"
  }
 },
 "nbformat": 4,
 "nbformat_minor": 1
}
