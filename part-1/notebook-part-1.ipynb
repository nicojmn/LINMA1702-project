{
 "cells": [
  {
   "cell_type": "markdown",
   "metadata": {},
   "source": [
    "<font size=6  color=#045fba> <b>[LINMA1702] - Modèles et méthodes d'optimisation I</b> <br><br> \n",
    "<b></b>Utilisation optimale d'une pompe à chaleur\n",
    "domestique (première partie)</font> <br><br><br>\n",
    "\n",
    "<font size=6  color=#045fba> <strong>Groupe 13 </strong></font> <br><br><br>\n",
    "\n",
    "\n",
    "<font size=5  color=#045fba>\n",
    "Simon Cornelis (<i>noma : 55101700</i>)<br>\n",
    "Nicolas Jeanmenne (<i>noma : 48741900</i>)<br>\n",
    "Corentin Libert (<i>noma : 53511700</i>)<br>\n",
    "Aymeric Wibo (<i>noma : 74822100 </i>)<br>\n",
    "\n",
    "<br><br>\n",
    "</font>"
   ]
  },
  {
   "cell_type": "markdown",
   "metadata": {
    "collapsed": true
   },
   "source": [
    "# Tâche 1 : minimisation du coût total de l'électricité consommée par la pompe à chaleur"
   ]
  },
  {
   "cell_type": "markdown",
   "metadata": {},
   "source": [
    "## Consignes\n",
    "<br>\n",
    "<font size=3>\n",
    "<div class=\"alert alert-info\">\n",
    "On souhaite dans un premier temps que la température du bâtiment reste comprise dans une certaine plage admissible de températures, et on cherche à minimiser le coût total de l'électricité consommée par la pompe à chaleur. Formulez ce problème comme un problème d'optimisation linéaire, puis résolvez le. <br>\n",
    "    \n",
    "Pour des raisons de temps de calcul, votre modèle considérera uniquement une période de 7 jours consécutifs. Il fera l'hypothèse que la température initiale au début de la période est égale à la valeur central de la plage admissible, et fera en sorte que la température finale à la fin de la période revienne à la même valeur. Votre code prendra donc en entrée un paramètre indiquant le numéro de l'intervalle de temps qui début la période, qui s'étendra sur $ 7 \\times 24 \\times 4 = 672$ intervalles de temps\n",
    "</div>\n",
    "</font>"
   ]
  },
  {
   "cell_type": "markdown",
   "metadata": {},
   "source": [
    "<div class=\"alert alert-warning\">\n",
    "A mentionner :\n",
    "    \n",
    "    \n",
    "- coût minimal + graphique de l'évolution des températures + graphique représentant\n",
    "l'utilisation de la pompe à chaleur (en distinguant le fonctionnement normal du\n",
    "fonctionnement _reverse_) + temps de calcul + bref commentaire (maximum 4 lignes\n",
    "    \n",
    "    \n",
    "- pour deux périodes distinctes (placer les résultats côté à côté) : à gauche une période\n",
    "pré-déterminée (cf. fichier de données), et à droite une seconde période que vous\n",
    "choisirez en fonction de son intérêt\n",
    "</div>"
   ]
  },
  {
   "cell_type": "markdown",
   "metadata": {},
   "source": [
    "## Solution\n",
    "\n",
    "### Variables\n",
    "\n",
    "Nous avons différencié le mode **normal** du mode **reverse** en créant deux vecteurs $\\mathbf{X_N} \\in \\mathbb{R}^{672}$ et $\\mathbf{X_R} \\in \\mathbb{R}^{672}$, représentant respectivement la consommation en kWh de la pompe à chaleur pour un intervalle en mode **normal** et en mode **reverse**. \n",
    "\n",
    "Nous obtenons donc un total de $ 2 * 672 \\text{ (c.f. consignes)} = 1344$ variables.\n",
    "\n",
    "### Fonction objectif\n",
    "\n",
    "Nous souhaitons minimiser le coût total de l'électricité consommée par la pompe à chaleur. Sous notation mathématique : \n",
    "\n",
    "$$ min \\;\\; (p*X_N + p*X_R) $$\n",
    "Où: \n",
    " - $p$ est le vecteurs des prix en fonction de la plage horaire des intervalles dans $X_N$ et $X_R$ (tarif bi-horaire: 0,18  $\\$$/kWh ou 26 $\\$$/kWh).\n",
    " - $X_N$ et $X_R$ sont définis comme dans la section [Variables](#Variables).\n",
    " \n",
    "### Contraintes\n",
    "\n",
    "Nous devons optimiser la fonction objectif sous les contraintes suivantes : \n",
    "- La consomation de la pompe à chaleur ne peut pas être inférieure à 0 kWh.\n",
    "- La température intérieur (à la fin de chaque intervalle) doit se trouver dans la plage admissible $[T_{min}, T_{max}]$: \n",
    "$$ T_{min} \\leq T_{int} \\leq T_{max}$$\n",
    "    $T_{int}$ est calculé comme suit:\n",
    "$$ T_{int} = T_{fin\\_sans\\_pompe} + 0.4 * cop_{normal} * X_N - 0.4 * cop_{reverse} * X_R $$\n",
    "    Où:\n",
    "  * $T_{fin\\_sans\\_pompe}$ est la température à la fin de l'intervalle, sans effet de la pompe\n",
    "  * $cop_{normal}$ est le coefficient de performance pour le mode normal, basé sur la température extérieure\n",
    "  * $cop_{reverse}$ est le coefficient de performance pour le mode reverse, constant.\n",
    "\n",
    "- Nous devons ajouter une contrainte vérifiant que la consommation électrique totale maximale de la pompe à chaleur ne dépasse pas **1kWh**, soit **0.25kW par intervalle de 15 minutes**: $$ 0 \\leq X_{N, i} + X_{R,i} \\leq \\frac{1}{4} \\text{ kWh} $$\n",
    "\n",
    "Ceci nous fait un total de $2 * (3 * 672) + 672 = 7 * 672$ contraintes, car, pour rappel, nous avons 2 vecteurs de 672 variables. Nous faisons comme hypothèse que la température initiale du premier intervalle de temps est dans la plage de température admissible (cf. consignes)."
   ]
  },
  {
   "cell_type": "code",
   "execution_count": 163,
   "metadata": {},
   "outputs": [],
   "source": [
    "import numpy as np\n",
    "import cvxpy as cp\n",
    "import matplotlib.pyplot as plt\n",
    "\n",
    "def get_end_interval_temperature(t_start, t_ext, eta=0.99):\n",
    "    return (1 - eta) * (t_ext - t_start) + t_start\n",
    "\n",
    "def get_cop(t_ext=None, mode='reverse', size=672):\n",
    "    if(mode == 'reverse'):\n",
    "        return np.array([3.2]*size)\n",
    "    else:\n",
    "        return 3 + 10 * np.abs(np.tanh(t_ext/100)) * np.tanh(t_ext/100)\n",
    "        \n",
    "def get_temp_data(data, index, size=672):\n",
    "    return data[index:index+size]\n",
    "\n",
    "def get_price_by_interval(index, size, p_peak, p_off_peak):\n",
    "    prices = [p_off_peak]*28 + [p_peak]*60 + [p_off_peak]*8\n",
    "    prices = prices[index % 96:] + prices[:index % 96]\n",
    "    return prices * int(size/96)\n",
    "\n",
    "def get_temperatures_before_pump(t_start, t_ext_data, t_min, t_max, eta=0.99):\n",
    "    res = []\n",
    "    for i in range(len(t_ext_data)):\n",
    "        t_end = get_end_temp(t_start, t_ext_data[i], eta)\n",
    "        res.append(t_end)\n",
    "        t_start = t_min if t_end < t_min else t_max if t_end > t_max else t_end\n",
    "    return res\n",
    "    \n",
    "\n",
    "def task1(data, index, size, t_min, t_max, p_peak, p_off_peak):\n",
    "    # Problem data\n",
    "    t_ext = get_temp_data(data, index, size)\n",
    "    prices = get_price_by_interval(index, size, p_peak, p_off_peak)\n",
    "    cop_n = get_cop(t_ext, 'normal', size)\n",
    "    cop_r = get_cop(mode='reverse', size=size)\n",
    "    t_before_pump = get_temperatures_before_pump((t_min + t_max)/2, t_ext, t_min, t_max)\n",
    "    \n",
    "    # Variables\n",
    "    Xn = cp.Variable(n)\n",
    "    Xr = cp.Variable(n)\n",
    "    \n",
    "    # Objectif\n",
    "    objective = cp.Minimize(prices @ Xn + prices @ Xr)\n",
    "    \n",
    "    # Constraints\n",
    "    constraints = [\n",
    "        0 <= Xn,\n",
    "        0 <= Xr,\n",
    "        Xn + Xr <= 0.25,\n",
    "        t_min <= t_before_pump + 0.4*cp.multiply(cop_n, Xn) - 0.4*cp.multiply(cop_r, Xr),\n",
    "        t_before_pump + cp.multiply(cop_n, Xn) - cp.multiply(cop_r, Xr) <= t_max\n",
    "    ]\n",
    "    \n",
    "    # Problem\n",
    "    prob = cp.Problem(objective, constraints)\n",
    "    \n",
    "    # Solve\n",
    "    result = prob.solve()\n",
    "    \n",
    "    return result, Xn, Xr\n",
    "\n",
    "def temperature_graph(data, index, size, t_min, t_max, p_peak, p_off_peak):\n",
    "    _, Xn, Xr = task1(data, index, size, t_min, t_max, p_peak, p_off_peak)\n",
    "    t_ext = get_temp_data(data, index, size)\n",
    "    t_before_pump = get_temperatures_before_pump((t_min + t_max)/2, t_ext, t_min, t_max)\n",
    "    cop_n = get_cop(t_ext, 'normal', size)\n",
    "    cop_r = get_cop(mode='reverse', size=size)\n",
    "    T = np.concatenate((np.array([(t_min+t_max)/2]),\n",
    "                       t_before_pump + 0.4 * np.multiply(cop_n, Xn.value) - 0.4 * np.multiply(cop_r, Xr.value)))\n",
    "    plt.plot(T)\n",
    "    plt.title(f'Evolution de la température intérieure\\n durant {size} intervalles de 15 minutes à partir de l\\'intervalle {index}.')\n",
    "    plt.xlabel('Intervalles (de 15 minutes)')\n",
    "    plt.ylabel('Température (en °C)')\n",
    "    plt.show()"
   ]
  },
  {
   "cell_type": "code",
   "execution_count": 164,
   "metadata": {
    "scrolled": true
   },
   "outputs": [
    {
     "name": "stdout",
     "output_type": "stream",
     "text": [
      "8.608\n",
      "Total Energie (en kWh) pour chauffer: 37.261\n",
      "Total Energie (en kWh) pour refroidir: 0.0\n",
      "\n",
      "Energie (en kWh) pour chauffer, par intervalle:\n",
      " [0.    0.    0.    0.    0.    0.    0.    0.088 0.122 0.122 0.128 0.128\n",
      " 0.128 0.128 0.135 0.135 0.135 0.135 0.139 0.139 0.139 0.139 0.143 0.143\n",
      " 0.143 0.143 0.14  0.14  0.14  0.14  0.141 0.141 0.141 0.141 0.141 0.141\n",
      " 0.141 0.141 0.14  0.14  0.14  0.14  0.141 0.141 0.141 0.141 0.14  0.14\n",
      " 0.14  0.14  0.14  0.14  0.14  0.14  0.137 0.137 0.137 0.137 0.131 0.131\n",
      " 0.131 0.131 0.125 0.125 0.125 0.125 0.123 0.123 0.123 0.123 0.119 0.119\n",
      " 0.119 0.119 0.114 0.114 0.114 0.114 0.107 0.107 0.107 0.107 0.101 0.101\n",
      " 0.101 0.101 0.094 0.094 0.094 0.094 0.09  0.09  0.09  0.09  0.084 0.084\n",
      " 0.084 0.084 0.082 0.082 0.082 0.082 0.082 0.082 0.082 0.082 0.086 0.086\n",
      " 0.086 0.086 0.088 0.088 0.088 0.088 0.092 0.092 0.092 0.092 0.095 0.095\n",
      " 0.095 0.095 0.098 0.098 0.098 0.098 0.107 0.107 0.107 0.107 0.118 0.118\n",
      " 0.118 0.118 0.125 0.125 0.125 0.125 0.124 0.124 0.124 0.124 0.131 0.131\n",
      " 0.131 0.131 0.127 0.127 0.127 0.127 0.116 0.116 0.116 0.116 0.1   0.1\n",
      " 0.1   0.1   0.088 0.088 0.088 0.088 0.078 0.078 0.078 0.078 0.063 0.063\n",
      " 0.063 0.063 0.056 0.056 0.056 0.056 0.05  0.05  0.05  0.05  0.045 0.045\n",
      " 0.045 0.045 0.046 0.046 0.046 0.046 0.05  0.05  0.05  0.05  0.056 0.056\n",
      " 0.056 0.056 0.065 0.065 0.065 0.065 0.074 0.074 0.074 0.074 0.079 0.079\n",
      " 0.079 0.079 0.085 0.085 0.085 0.085 0.086 0.086 0.086 0.086 0.087 0.087\n",
      " 0.087 0.087 0.086 0.086 0.086 0.086 0.088 0.088 0.088 0.088 0.092 0.092\n",
      " 0.092 0.092 0.098 0.098 0.098 0.098 0.107 0.107 0.107 0.107 0.114 0.114\n",
      " 0.114 0.114 0.111 0.111 0.111 0.111 0.098 0.098 0.098 0.098 0.087 0.087\n",
      " 0.087 0.087 0.081 0.081 0.081 0.081 0.064 0.064 0.064 0.064 0.051 0.051\n",
      " 0.051 0.051 0.044 0.044 0.044 0.044 0.034 0.034 0.034 0.034 0.027 0.027\n",
      " 0.027 0.027 0.024 0.024 0.024 0.024 0.024 0.024 0.024 0.024 0.025 0.025\n",
      " 0.025 0.025 0.026 0.026 0.026 0.026 0.032 0.032 0.032 0.032 0.045 0.045\n",
      " 0.045 0.045 0.056 0.056 0.056 0.056 0.065 0.065 0.065 0.065 0.073 0.073\n",
      " 0.073 0.073 0.077 0.077 0.077 0.077 0.076 0.076 0.076 0.076 0.08  0.08\n",
      " 0.08  0.08  0.08  0.08  0.08  0.08  0.084 0.084 0.084 0.084 0.084 0.084\n",
      " 0.084 0.084 0.077 0.077 0.077 0.077 0.067 0.067 0.067 0.067 0.053 0.053\n",
      " 0.053 0.053 0.039 0.039 0.039 0.039 0.035 0.035 0.035 0.035 0.028 0.028\n",
      " 0.028 0.028 0.023 0.023 0.023 0.023 0.018 0.018 0.018 0.018 0.037 0.037\n",
      " 0.037 0.037 0.044 0.044 0.044 0.044 0.031 0.031 0.031 0.031 0.044 0.044\n",
      " 0.044 0.044 0.04  0.04  0.04  0.04  0.03  0.03  0.03  0.03  0.04  0.04\n",
      " 0.04  0.04  0.048 0.048 0.048 0.048 0.056 0.056 0.056 0.056 0.065 0.065\n",
      " 0.065 0.065 0.072 0.072 0.072 0.072 0.072 0.072 0.072 0.072 0.073 0.073\n",
      " 0.073 0.073 0.074 0.074 0.074 0.074 0.081 0.081 0.081 0.081 0.099 0.099\n",
      " 0.099 0.099 0.092 0.092 0.092 0.092 0.059 0.059 0.059 0.059 0.028 0.028\n",
      " 0.028 0.028 0.011 0.011 0.011 0.011 0.    0.    0.    0.    0.    0.\n",
      " 0.    0.    0.    0.    0.    0.    0.    0.    0.    0.    0.    0.\n",
      " 0.    0.    0.    0.    0.    0.    0.    0.    0.    0.    0.    0.\n",
      " 0.    0.    0.    0.    0.    0.    0.    0.    0.    0.    0.    0.\n",
      " 0.    0.    0.    0.    0.    0.    0.    0.    0.    0.    0.    0.\n",
      " 0.    0.    0.    0.    0.    0.    0.    0.    0.    0.    0.    0.\n",
      " 0.    0.    0.    0.029 0.055 0.055 0.063 0.063 0.063 0.063 0.064 0.064\n",
      " 0.064 0.064 0.059 0.059 0.059 0.059 0.035 0.035 0.035 0.035 0.013 0.013\n",
      " 0.013 0.013 0.    0.    0.    0.    0.    0.    0.    0.    0.    0.\n",
      " 0.    0.    0.    0.    0.    0.    0.    0.    0.    0.    0.    0.\n",
      " 0.    0.    0.    0.    0.    0.    0.    0.    0.    0.    0.    0.\n",
      " 0.    0.    0.    0.    0.    0.    0.    0.    0.    0.    0.    0.\n",
      " 0.    0.    0.    0.    0.    0.    0.    0.    0.    0.    0.    0.\n",
      " 0.    0.    0.    0.    0.    0.    0.    0.    0.    0.    0.    0.\n",
      " 0.    0.    0.    0.    0.    0.    0.    0.    0.032 0.049 0.049 0.049\n",
      " 0.049 0.049 0.043 0.043 0.043 0.043 0.03  0.03  0.03  0.03  0.017 0.017\n",
      " 0.017 0.017 0.    0.    0.    0.    0.    0.    0.    0.    0.    0.\n",
      " 0.    0.    0.    0.    0.    0.    0.    0.    0.    0.    0.    0.\n",
      " 0.    0.    0.    0.    0.    0.    0.    0.    0.    0.    0.    0.   ]\n",
      "\n",
      "Energie (en kWh) pour refroidir, par intervalle:\n",
      " [0. 0. 0. 0. 0. 0. 0. 0. 0. 0. 0. 0. 0. 0. 0. 0. 0. 0. 0. 0. 0. 0. 0. 0.\n",
      " 0. 0. 0. 0. 0. 0. 0. 0. 0. 0. 0. 0. 0. 0. 0. 0. 0. 0. 0. 0. 0. 0. 0. 0.\n",
      " 0. 0. 0. 0. 0. 0. 0. 0. 0. 0. 0. 0. 0. 0. 0. 0. 0. 0. 0. 0. 0. 0. 0. 0.\n",
      " 0. 0. 0. 0. 0. 0. 0. 0. 0. 0. 0. 0. 0. 0. 0. 0. 0. 0. 0. 0. 0. 0. 0. 0.\n",
      " 0. 0. 0. 0. 0. 0. 0. 0. 0. 0. 0. 0. 0. 0. 0. 0. 0. 0. 0. 0. 0. 0. 0. 0.\n",
      " 0. 0. 0. 0. 0. 0. 0. 0. 0. 0. 0. 0. 0. 0. 0. 0. 0. 0. 0. 0. 0. 0. 0. 0.\n",
      " 0. 0. 0. 0. 0. 0. 0. 0. 0. 0. 0. 0. 0. 0. 0. 0. 0. 0. 0. 0. 0. 0. 0. 0.\n",
      " 0. 0. 0. 0. 0. 0. 0. 0. 0. 0. 0. 0. 0. 0. 0. 0. 0. 0. 0. 0. 0. 0. 0. 0.\n",
      " 0. 0. 0. 0. 0. 0. 0. 0. 0. 0. 0. 0. 0. 0. 0. 0. 0. 0. 0. 0. 0. 0. 0. 0.\n",
      " 0. 0. 0. 0. 0. 0. 0. 0. 0. 0. 0. 0. 0. 0. 0. 0. 0. 0. 0. 0. 0. 0. 0. 0.\n",
      " 0. 0. 0. 0. 0. 0. 0. 0. 0. 0. 0. 0. 0. 0. 0. 0. 0. 0. 0. 0. 0. 0. 0. 0.\n",
      " 0. 0. 0. 0. 0. 0. 0. 0. 0. 0. 0. 0. 0. 0. 0. 0. 0. 0. 0. 0. 0. 0. 0. 0.\n",
      " 0. 0. 0. 0. 0. 0. 0. 0. 0. 0. 0. 0. 0. 0. 0. 0. 0. 0. 0. 0. 0. 0. 0. 0.\n",
      " 0. 0. 0. 0. 0. 0. 0. 0. 0. 0. 0. 0. 0. 0. 0. 0. 0. 0. 0. 0. 0. 0. 0. 0.\n",
      " 0. 0. 0. 0. 0. 0. 0. 0. 0. 0. 0. 0. 0. 0. 0. 0. 0. 0. 0. 0. 0. 0. 0. 0.\n",
      " 0. 0. 0. 0. 0. 0. 0. 0. 0. 0. 0. 0. 0. 0. 0. 0. 0. 0. 0. 0. 0. 0. 0. 0.\n",
      " 0. 0. 0. 0. 0. 0. 0. 0. 0. 0. 0. 0. 0. 0. 0. 0. 0. 0. 0. 0. 0. 0. 0. 0.\n",
      " 0. 0. 0. 0. 0. 0. 0. 0. 0. 0. 0. 0. 0. 0. 0. 0. 0. 0. 0. 0. 0. 0. 0. 0.\n",
      " 0. 0. 0. 0. 0. 0. 0. 0. 0. 0. 0. 0. 0. 0. 0. 0. 0. 0. 0. 0. 0. 0. 0. 0.\n",
      " 0. 0. 0. 0. 0. 0. 0. 0. 0. 0. 0. 0. 0. 0. 0. 0. 0. 0. 0. 0. 0. 0. 0. 0.\n",
      " 0. 0. 0. 0. 0. 0. 0. 0. 0. 0. 0. 0. 0. 0. 0. 0. 0. 0. 0. 0. 0. 0. 0. 0.\n",
      " 0. 0. 0. 0. 0. 0. 0. 0. 0. 0. 0. 0. 0. 0. 0. 0. 0. 0. 0. 0. 0. 0. 0. 0.\n",
      " 0. 0. 0. 0. 0. 0. 0. 0. 0. 0. 0. 0. 0. 0. 0. 0. 0. 0. 0. 0. 0. 0. 0. 0.\n",
      " 0. 0. 0. 0. 0. 0. 0. 0. 0. 0. 0. 0. 0. 0. 0. 0. 0. 0. 0. 0. 0. 0. 0. 0.\n",
      " 0. 0. 0. 0. 0. 0. 0. 0. 0. 0. 0. 0. 0. 0. 0. 0. 0. 0. 0. 0. 0. 0. 0. 0.\n",
      " 0. 0. 0. 0. 0. 0. 0. 0. 0. 0. 0. 0. 0. 0. 0. 0. 0. 0. 0. 0. 0. 0. 0. 0.\n",
      " 0. 0. 0. 0. 0. 0. 0. 0. 0. 0. 0. 0. 0. 0. 0. 0. 0. 0. 0. 0. 0. 0. 0. 0.\n",
      " 0. 0. 0. 0. 0. 0. 0. 0. 0. 0. 0. 0. 0. 0. 0. 0. 0. 0. 0. 0. 0. 0. 0. 0.]\n"
     ]
    }
   ],
   "source": [
    "import numpy as np\n",
    "\n",
    "data_vector = np.load('data/Temperatures-Montreal.npy')\n",
    "result, Xn, Xr = task1(data_vector, 13050, 672, 19, 21, 0.26, 0.18)\n",
    "print(np.around(result, 3))\n",
    "print(f'Total Energie (en kWh) pour chauffer: {np.around(np.sum(Xn.value),3)}')\n",
    "print(f'Total Energie (en kWh) pour refroidir: {np.around(np.sum(Xr.value),3)}\\n')\n",
    "print(f'Energie (en kWh) pour chauffer, par intervalle:\\n {np.around(Xn.value, 3)}\\n')\n",
    "print(f'Energie (en kWh) pour refroidir, par intervalle:\\n {np.around(Xr.value, 3)}')"
   ]
  },
  {
   "cell_type": "code",
   "execution_count": 165,
   "metadata": {},
   "outputs": [
    {
     "data": {
      "image/png": "[encoded data removed]",
      "text/plain": [
       "<Figure size 640x480 with 1 Axes>"
      ]
     },
     "metadata": {},
     "output_type": "display_data"
    }
   ],
   "source": [
    "temperature_graph(data_vector, 13050, 672, 19, 21, 0.26, 0.18)"
   ]
  },
  {
   "cell_type": "markdown",
   "metadata": {},
   "source": [
    "# Tâche 2 : minimisation de l'inconfort total"
   ]
  },
  {
   "cell_type": "markdown",
   "metadata": {},
   "source": [
    "## Consignes\n",
    "<br>\n",
    "<font size=3>\n",
    "<div class=\"alert alert-info\">\n",
    "On souhaite réduire le coût d'utilisation de la pompe à chaleur, et on va fixer le budget maximal à une certaine proportion du coût minimal identifié lors de la première tâche. Pour diminuer les coût, on va permettre aux températures de sortir de la plage admissible définie plus haut. On va cependant alors comptabiliser la quantité d'inconfort\n",
    "éventuellement subi durant chaque intervalle de temps, qui sera proportionnel au dépassement de la température maximale admissible, ou au dépassement par le bas de la température minimale admissible. On cherche alors à <b>minimiser l'inconfort total</b> (somme des inconforts sur toute la période considérée) <b>tout en respectant la contrainte de budget</b>. Formulez ce problème comme un problème d'optimisation linéaire, puis résolvez le.\n",
    "</div>\n",
    "</font>"
   ]
  },
  {
   "cell_type": "markdown",
   "metadata": {},
   "source": [
    "<div class=\"alert alert-warning\">\n",
    "A mentionner :\n",
    "    \n",
    "    \n",
    "- inconfort minimal + même graphiques que pour tâche 1 + temps de calcul + bref\n",
    "commentaire (maximum 4 lignes)\n",
    "    \n",
    "    \n",
    "- à nouveau pour les deux périodes mentionnées lors de la tâche 1\n",
    "</div>"
   ]
  },
  {
   "cell_type": "markdown",
   "metadata": {},
   "source": [
    "# Tâche 3 : relation entre budget et inconfort"
   ]
  },
  {
   "cell_type": "markdown",
   "metadata": {},
   "source": [
    "## Consignes\n",
    "<br>\n",
    "<font size=3>\n",
    "<div class=\"alert alert-info\">\n",
    "On voudrait à présent mieux comprendre le compromis qui existe entre le budget\n",
    "alloué et l'inconfort total qui en résulte. Proposez un <b>graphique représentant au mieux\n",
    "cette relation entre budget et inconfort</b>, où on fera varier le budget entre entre zéro et le\n",
    "coût minimal identifié lors de la tâche 1 (ce budget sera indiqué en pourcentage, de 0 à\n",
    "100%). Ceci nécessitera la résolution de plusieurs problèmes, et il sera judicieux d'utiliser la\n",
    "    fonctionnalité <i>warm start</i> du solver pour accélérer les calculs.\n",
    "</div>\n",
    "</font>"
   ]
  },
  {
   "cell_type": "markdown",
   "metadata": {},
   "source": [
    "<div class=\"alert alert-warning\">\n",
    "A mentionner :\n",
    "    \n",
    "    \n",
    "- graphique demandé + temps de calcul (total et moyenne par problème) + bref\n",
    "commentaire (maximum 4 lignes)\n",
    "    \n",
    "    \n",
    "- à nouveau pour les deux périodes mentionnées lors des tâches 1 et 2\n",
    "</div>"
   ]
  },
  {
   "cell_type": "code",
   "execution_count": null,
   "metadata": {},
   "outputs": [],
   "source": []
  }
 ],
 "metadata": {
  "kernelspec": {
   "display_name": "Python 3 (ipykernel)",
   "language": "python",
   "name": "python3"
  },
  "language_info": {
   "codemirror_mode": {
    "name": "ipython",
    "version": 3
   },
   "file_extension": ".py",
   "mimetype": "text/x-python",
   "name": "python",
   "nbconvert_exporter": "python",
   "pygments_lexer": "ipython3",
   "version": "3.10.7"
  }
 },
 "nbformat": 4,
 "nbformat_minor": 1
}
