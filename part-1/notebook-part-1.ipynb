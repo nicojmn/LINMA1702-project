{
 "cells": [
  {
   "cell_type": "markdown",
   "metadata": {},
   "source": [
    "<font size=6  color=#045fba> <b>[LINMA1702] - Modèles et méthodes d'optimisation I</b> <br><br> \n",
    "<b></b>Utilisation optimale d'une pompe à chaleur\n",
    "domestique (première partie)</font> <br><br><br>\n",
    "\n",
    "<font size=6  color=#045fba> <strong>Groupe 13 </strong></font> <br><br><br>\n",
    "\n",
    "\n",
    "<font size=5  color=#045fba>\n",
    "Simon Cornelis (<i>noma : 55101700</i>)<br>\n",
    "Nicolas Jeanmenne (<i>noma : 48741900</i>)<br>\n",
    "Corentin Libert (<i>noma : 53511700</i>)<br>\n",
    "Aymeric Wibo (<i>noma : 74822100 </i>)<br>\n",
    "\n",
    "<br><br>\n",
    "</font>"
   ]
  },
  {
   "cell_type": "markdown",
   "metadata": {
    "collapsed": true
   },
   "source": [
    "# Tâche 1 : minimisation du coût total de l'électricité consommée par la pompe à chaleur"
   ]
  },
  {
   "cell_type": "markdown",
   "metadata": {},
   "source": [
    "## Consignes\n",
    "<br>\n",
    "<font size=3>\n",
    "<div class=\"alert alert-info\">\n",
    "On souhaite dans un premier temps que la température du bâtiment reste comprise dans une certaine plage admissible de températures, et on cherche à minimiser le coût total de l'électricité consommée par la pompe à chaleur. Formulez ce problème comme un problème d'optimisation linéaire, puis résolvez le. <br>\n",
    "    \n",
    "Pour des raisons de temps de calcul, votre modèle considérera uniquement une période de 7 jours consécutifs. Il fera l'hypothèse que la température initiale au début de la période est égale à la valeur central de la plage admissible, et fera en sorte que la température finale à la fin de la période revienne à la même valeur. Votre code prendra donc en entrée un paramètre indiquant le numéro de l'intervalle de temps qui début la période, qui s'étendra sur $ 7 \\times 24 \\times 4 = 672$ intervalles de temps\n",
    "</div>\n",
    "</font>"
   ]
  },
  {
   "cell_type": "markdown",
   "metadata": {},
   "source": [
    "<div class=\"alert alert-warning\">\n",
    "A mentionner :\n",
    "    \n",
    "    \n",
    "- coût minimal + graphique de l'évolution des températures + graphique représentant\n",
    "l'utilisation de la pompe à chaleur (en distinguant le fonctionnement normal du\n",
    "fonctionnement _reverse_) + temps de calcul + bref commentaire (maximum 4 lignes\n",
    "    \n",
    "    \n",
    "- pour deux périodes distinctes (placer les résultats côté à côté) : à gauche une période\n",
    "pré-déterminée (cf. fichier de données), et à droite une seconde période que vous\n",
    "choisirez en fonction de son intérêt\n",
    "</div>"
   ]
  },
  {
   "cell_type": "markdown",
   "metadata": {},
   "source": [
    "## Solution\n",
    "\n",
    "### Variables\n",
    "\n",
    "Nous avons différencié le mode **normal** du mode **reverse** en créant deux vecteurs $\\mathbf{X_N} \\in \\mathbb{R}^{672}$ et $\\mathbf{X_R} \\in \\mathbb{R}^{672}$, représentant respectivement la consommation en kWh de la pompe à chaleur pour un intervalle en mode **normal** et en mode **reverse**. \n",
    "\n",
    "Nous obtenons donc un total de $ 2 * 672 \\text{ (c.f. consignes)} = 1344$ variables.\n",
    "\n",
    "### Fonction objectif\n",
    "\n",
    "Nous souhaitons minimiser le coût total de l'électricité consommée par la pompe à chaleur. Sous notation mathématique : \n",
    "\n",
    "$$ min \\;\\; (p*X_N + p*X_R) $$\n",
    "Où: \n",
    " - $p$ est le vecteurs des prix en fonction de la plage horaire des intervalles dans $X_N$ et $X_R$ (tarif bi-horaire: 0,18  $\\$$/kWh ou 26 $\\$$/kWh).\n",
    " - $X_N$ et $X_R$ sont définis comme dans la section [Variables](#Variables).\n",
    " \n",
    "### Contraintes\n",
    "\n",
    "Nous devons optimiser la fonction objectif sous les contraintes suivantes : \n",
    "- La température intérieur (à la fin de chaque intervalle) doit se trouver dans la plage admissible $[T_{min}, T_{max}]$: \n",
    "\n",
    "$$ T_{min} \\leq T_{int} \\leq T_{max}$$\n",
    "- Nous devons ajouter une contrainte vérifiant, pour un intervalle de temps donné, que la consommation électrique maximal de la pompe à chaleur ne dépasse pas **1kWh**, c'est-à-dire : $$ 0 \\leq X_{N, i} + X_{R,i} \\leq 1 \\text{ kWh} $$\n"
   ]
  },
  {
   "cell_type": "code",
   "execution_count": 82,
   "metadata": {},
   "outputs": [],
   "source": [
    "import numpy as np\n",
    "\n",
    "def get_end_temp(t_start, t_ext, eta=0.99):\n",
    "    return (1 - eta) * (t_ext - t_start) + t_start\n",
    "\n",
    "def get_cop(t_ext=None, mode='reverse', size=672):\n",
    "    if(mode == 'reverse'):\n",
    "        return np.array([3.2]*size)\n",
    "    else:\n",
    "        res = []\n",
    "        for i in range(size):\n",
    "            cop = 3 + 10 * np.abs(np.tanh(t_ext[i]/100)) * np.tanh(t_ext[i]/100)\n",
    "            res.append(cop)\n",
    "        return res\n",
    "    \n",
    "def get_temp_data(data, index, size=672):\n",
    "    return data[index:index+size]\n",
    "\n",
    "def compute_end_interval_temp(t_start, t_ext_data, eta=0.99):\n",
    "    res = []\n",
    "    for i in range(len(t_ext_data)):\n",
    "        t_end = get_end_temp(t_start, t_ext_data[i], eta)\n",
    "        res.append(t_end)\n",
    "        t_start = 19 if t_end < 19 else 21 if t_end > 21 else t_end\n",
    "    return res"
   ]
  },
  {
   "cell_type": "code",
   "execution_count": 84,
   "metadata": {},
   "outputs": [],
   "source": [
    "import numpy as np\n",
    "\n",
    "data_vector = np.load('data/Temperatures-Montreal.npy')"
   ]
  },
  {
   "cell_type": "code",
   "execution_count": 85,
   "metadata": {
    "scrolled": false
   },
   "outputs": [
    {
     "name": "stdout",
     "output_type": "stream",
     "text": [
      "2.739608\n"
     ]
    }
   ],
   "source": [
    "import numpy as np\n",
    "import cvxpy as cp\n",
    "import pandas as pd\n",
    "\n",
    "# Problem data\n",
    "n = 672\n",
    "p = np.array([0.18]*672) # prices\n",
    "Tmin = 19\n",
    "Tmax = 21\n",
    "T_ext = get_temp_data(data_vector, 13050)\n",
    "T = compute_end_interval_temp(19, T_ext)\n",
    "cop_n = get_cop(T_ext, 'normal', len(T_ext))\n",
    "cop_r = get_cop('reverse')\n",
    "\n",
    "\n",
    "# Variables\n",
    "Xn = cp.Variable(n)\n",
    "Xr = cp.Variable(n)\n",
    "# Objectif\n",
    "objective = cp.Minimize(p @ Xn + p @ Xr)\n",
    "# Constraints\n",
    "constraints = [\n",
    "    0 <= Xn,\n",
    "    0 <= Xr,\n",
    "    Xn + Xr <= 1,\n",
    "    Tmin <= T + cp.multiply(cop_n, Xn) - cp.multiply(cop_r, Xr),\n",
    "    T + cp.multiply(cop_n, Xn) - cp.multiply(cop_r, Xr) <= Tmax\n",
    "]\n",
    "# Problem\n",
    "prob = cp.Problem(objective, constraints)\n",
    "\n",
    "\n",
    "# Solve\n",
    "result = prob.solve()\n",
    "print(np.around(result, 6))\n",
    "\n",
    "# df = pd.DataFrame({\"T_ext\": T_ext, \"T\": T })\n",
    "# display(df.head(20))\n",
    "# print(Xn.value)"
   ]
  },
  {
   "cell_type": "code",
   "execution_count": 34,
   "metadata": {},
   "outputs": [],
   "source": [
    "import numpy as np\n",
    "import cvxpy as cp\n",
    "\n",
    "def get_end_interval_temperature(t_start, t_ext, eta=0.99):\n",
    "    return (1 - eta) * (t_ext - t_start) + t_start\n",
    "\n",
    "def get_cop(t_ext=None, mode='reverse', size=672):\n",
    "    if(mode == 'reverse'):\n",
    "        return np.array([3.2]*size)\n",
    "    else:\n",
    "        cop = 3 + 10 * np.abs(np.tanh(t_ext/100)) * np.tanh(t_ext/100)\n",
    "        return cop\n",
    "    \n"
   ]
  },
  {
   "cell_type": "markdown",
   "metadata": {},
   "source": [
    "# Tâche 2 : minimisation de l'inconfort total"
   ]
  },
  {
   "cell_type": "markdown",
   "metadata": {},
   "source": [
    "## Consignes\n",
    "<br>\n",
    "<font size=3>\n",
    "<div class=\"alert alert-info\">\n",
    "On souhaite réduire le coût d'utilisation de la pompe à chaleur, et on va fixer le budget maximal à une certaine proportion du coût minimal identifié lors de la première tâche. Pour diminuer les coût, on va permettre aux températures de sortir de la plage admissible définie plus haut. On va cependant alors comptabiliser la quantité d'inconfort\n",
    "éventuellement subi durant chaque intervalle de temps, qui sera proportionnel au dépassement de la température maximale admissible, ou au dépassement par le bas de la température minimale admissible. On cherche alors à <b>minimiser l'inconfort total</b> (somme des inconforts sur toute la période considérée) <b>tout en respectant la contrainte de budget</b>. Formulez ce problème comme un problème d'optimisation linéaire, puis résolvez le.\n",
    "</div>\n",
    "</font>"
   ]
  },
  {
   "cell_type": "markdown",
   "metadata": {},
   "source": [
    "<div class=\"alert alert-warning\">\n",
    "A mentionner :\n",
    "    \n",
    "    \n",
    "- inconfort minimal + même graphiques que pour tâche 1 + temps de calcul + bref\n",
    "commentaire (maximum 4 lignes)\n",
    "    \n",
    "    \n",
    "- à nouveau pour les deux périodes mentionnées lors de la tâche 1\n",
    "</div>"
   ]
  },
  {
   "cell_type": "markdown",
   "metadata": {},
   "source": [
    "# Tâche 3 : relation entre budget et inconfort"
   ]
  },
  {
   "cell_type": "markdown",
   "metadata": {},
   "source": [
    "## Consignes\n",
    "<br>\n",
    "<font size=3>\n",
    "<div class=\"alert alert-info\">\n",
    "On voudrait à présent mieux comprendre le compromis qui existe entre le budget\n",
    "alloué et l'inconfort total qui en résulte. Proposez un <b>graphique représentant au mieux\n",
    "cette relation entre budget et inconfort</b>, où on fera varier le budget entre entre zéro et le\n",
    "coût minimal identifié lors de la tâche 1 (ce budget sera indiqué en pourcentage, de 0 à\n",
    "100%). Ceci nécessitera la résolution de plusieurs problèmes, et il sera judicieux d'utiliser la\n",
    "    fonctionnalité <i>warm start</i> du solver pour accélérer les calculs.\n",
    "</div>\n",
    "</font>"
   ]
  },
  {
   "cell_type": "markdown",
   "metadata": {},
   "source": [
    "<div class=\"alert alert-warning\">\n",
    "A mentionner :\n",
    "    \n",
    "    \n",
    "- graphique demandé + temps de calcul (total et moyenne par problème) + bref\n",
    "commentaire (maximum 4 lignes)\n",
    "    \n",
    "    \n",
    "- à nouveau pour les deux périodes mentionnées lors des tâches 1 et 2\n",
    "</div>"
   ]
  },
  {
   "cell_type": "code",
   "execution_count": null,
   "metadata": {},
   "outputs": [],
   "source": []
  }
 ],
 "metadata": {
  "kernelspec": {
   "display_name": "Python 3 (ipykernel)",
   "language": "python",
   "name": "python3"
  },
  "language_info": {
   "codemirror_mode": {
    "name": "ipython",
    "version": 3
   },
   "file_extension": ".py",
   "mimetype": "text/x-python",
   "name": "python",
   "nbconvert_exporter": "python",
   "pygments_lexer": "ipython3",
   "version": "3.10.7"
  }
 },
 "nbformat": 4,
 "nbformat_minor": 1
}
